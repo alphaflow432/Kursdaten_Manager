{
 "cells": [
  {
   "cell_type": "code",
   "execution_count": 10,
   "outputs": [
    {
     "data": {
      "text/plain": "<pymongo.results.InsertManyResult at 0x7feb6eb4a940>"
     },
     "execution_count": 10,
     "metadata": {},
     "output_type": "execute_result"
    }
   ],
   "source": [
    "import pymongo\n",
    "import isodate\n",
    "import datetime\n",
    "import pandas as pd\n",
    "myfirstclient = pymongo.MongoClient(\"mongodb://localhost:27017/\")\n",
    "mydb = myfirstclient[\"myAssesPriceDataBase\"]\n",
    "\n",
    "assetname = \"assest1\"\n",
    "\n",
    "\n",
    "#mydb.create_collection(assetname, timeseries={ 'timeField': 'timestamp','metaField':'metadata'})\n",
    "\n",
    "\n",
    "mydb.assest1.insert_many([{\n",
    "      \"metadata\": { \"sensorId\": 5578, \"type\": \"temperature\" },\n",
    "      \"timestamp\": isodate.parse_datetime(\"2021-05-18T00:00:00.000\"),\n",
    "      \"temp\": 12\n",
    "   },\n",
    "   {\n",
    "      \"metadata\": { \"sensorId\": 5578, \"type\": \"temperature\" },\n",
    "      \"timestamp\": isodate.parse_datetime(\"2021-05-18T00:00:00.000\"),\n",
    "      \"temp\": 11\n",
    "   }])\n",
    "\n",
    "\n",
    "\n",
    "\n",
    "\n",
    "\n",
    "#TODO #dataDict = dataFrame.to_dict('records')\n",
    "#x = mycollection.insert_many(dataDict)\n",
    "\n",
    "\n",
    "\n"
   ],
   "metadata": {
    "collapsed": false
   }
  },
  {
   "cell_type": "markdown",
   "source": [],
   "metadata": {
    "collapsed": false
   }
  },
  {
   "cell_type": "code",
   "execution_count": null,
   "outputs": [],
   "source": [
    "print(x.inserted_ids)\n",
    "print(myfirstclient.list_database_names())"
   ],
   "metadata": {
    "collapsed": false
   }
  },
  {
   "cell_type": "code",
   "execution_count": null,
   "outputs": [],
   "source": [
    "dataFrame = pd.read_csv(\"/home/artbart/PycharmProjects/scientificProject1/data/^JKSE.csv\")\n",
    "\n",
    "\n",
    "dataFrame[\"Date\"] = dataFrame[\"Date\"].convert_dtypes(convert_string=True)\n",
    "dataFrame.dtypes"
   ],
   "metadata": {
    "collapsed": false
   }
  },
  {
   "cell_type": "code",
   "execution_count": null,
   "outputs": [],
   "source": [
    "\n",
    "dataFrame.to_dict('records')\n",
    "# list, index ,\n",
    "# Only the options: ('dict', list, 'series', 'split', 'records', 'index') will be used in a future version"
   ],
   "metadata": {
    "collapsed": false
   }
  },
  {
   "cell_type": "code",
   "execution_count": null,
   "outputs": [],
   "source": [],
   "metadata": {
    "collapsed": false
   }
  }
 ],
 "metadata": {
  "kernelspec": {
   "display_name": "Python 3",
   "language": "python",
   "name": "python3"
  },
  "language_info": {
   "codemirror_mode": {
    "name": "ipython",
    "version": 2
   },
   "file_extension": ".py",
   "mimetype": "text/x-python",
   "name": "python",
   "nbconvert_exporter": "python",
   "pygments_lexer": "ipython2",
   "version": "2.7.6"
  }
 },
 "nbformat": 4,
 "nbformat_minor": 0
}
