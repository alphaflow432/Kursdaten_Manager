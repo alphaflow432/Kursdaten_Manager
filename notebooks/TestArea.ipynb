{
 "cells": [
  {
   "cell_type": "code",
   "execution_count": 1,
   "metadata": {
    "collapsed": true
   },
   "outputs": [],
   "source": [
    "import array\n",
    "%config Completer.use_jedi = False\n",
    "import pandas as pd\n",
    "\n",
    "def csvsEinlesen(list_of_names,wkd_path):\n",
    "    tempList\n",
    "    for item in list_of_names:\n",
    "        tempList.append(wkd + item + \".csv\")\n",
    "\n",
    "\n",
    "\n",
    "    return data"
   ]
  },
  {
   "cell_type": "code",
   "execution_count": null,
   "outputs": [],
   "source": [
    "csvpath1 = \"/home/artbart/PycharmProjects/scientificProject1/data/futures/EURUSD=X.csv\"\n",
    "csvpath2 = \"/home/artbart/PycharmProjects/scientificProject1/data/futures/GD=F.csv\"\n",
    "\n",
    "df1 = pd.read_csv(csvpath1)\n",
    "df2 = pd.read_csv(csvpath2)\n",
    "\n",
    "df1.head()\n",
    "df1.tail()\n",
    "df1.info\n",
    "df1.describe()\n",
    "\n",
    "df2.head()\n",
    "df2.tail()\n",
    "df2.info\n",
    "df2.describe()\n",
    "\n",
    "df1.plot()"
   ],
   "metadata": {
    "collapsed": false
   }
  },
  {
   "cell_type": "code",
   "execution_count": 2,
   "outputs": [],
   "source": [],
   "metadata": {
    "collapsed": false
   }
  }
 ],
 "metadata": {
  "kernelspec": {
   "name": "pycharm-7022496e",
   "language": "python",
   "display_name": "PyCharm (scientificProject)"
  },
  "language_info": {
   "codemirror_mode": {
    "name": "ipython",
    "version": 2
   },
   "file_extension": ".py",
   "mimetype": "text/x-python",
   "name": "python",
   "nbconvert_exporter": "python",
   "pygments_lexer": "ipython2",
   "version": "2.7.6"
  }
 },
 "nbformat": 4,
 "nbformat_minor": 0
}
